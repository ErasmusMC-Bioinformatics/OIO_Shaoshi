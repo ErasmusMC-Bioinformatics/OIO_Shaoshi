{
 "cells": [
  {
   "cell_type": "code",
   "execution_count": 1,
   "metadata": {},
   "outputs": [],
   "source": [
    "import pandas as pd\n",
    "import numpy as np\n",
    "from sksurv.nonparametric import kaplan_meier_estimator as kmf\n",
    "import matplotlib.pyplot as plt\n",
    "from lifelines.statistics import logrank_test\n",
    "import matplotlib.patches as mpatches"
   ]
  },
  {
   "cell_type": "code",
   "execution_count": 2,
   "metadata": {},
   "outputs": [],
   "source": [
    "cell_type = 'Hepatocyte'\n",
    "study = 'GSE14520'\n",
    "cell_estimation = pd.read_csv('GSE14520.SVR.%s.Estimation.csv'%cell_type,index_col=0)\n",
    "cell_estimation.head()\n",
    "interest = cell_estimation.columns.values[0]"
   ]
  },
  {
   "cell_type": "code",
   "execution_count": 3,
   "metadata": {},
   "outputs": [
    {
     "data": {
      "text/html": [
       "<div>\n",
       "<style scoped>\n",
       "    .dataframe tbody tr th:only-of-type {\n",
       "        vertical-align: middle;\n",
       "    }\n",
       "\n",
       "    .dataframe tbody tr th {\n",
       "        vertical-align: top;\n",
       "    }\n",
       "\n",
       "    .dataframe thead th {\n",
       "        text-align: right;\n",
       "    }\n",
       "</style>\n",
       "<table border=\"1\" class=\"dataframe\">\n",
       "  <thead>\n",
       "    <tr style=\"text-align: right;\">\n",
       "      <th></th>\n",
       "      <th>OS_E</th>\n",
       "      <th>OS</th>\n",
       "      <th>DFS_E</th>\n",
       "      <th>DFS</th>\n",
       "    </tr>\n",
       "    <tr>\n",
       "      <th>GSM</th>\n",
       "      <th></th>\n",
       "      <th></th>\n",
       "      <th></th>\n",
       "      <th></th>\n",
       "    </tr>\n",
       "  </thead>\n",
       "  <tbody>\n",
       "    <tr>\n",
       "      <th>GSM363205</th>\n",
       "      <td>0</td>\n",
       "      <td>58.0</td>\n",
       "      <td>0</td>\n",
       "      <td>58.0</td>\n",
       "    </tr>\n",
       "    <tr>\n",
       "      <th>GSM363115</th>\n",
       "      <td>0</td>\n",
       "      <td>66.6</td>\n",
       "      <td>0</td>\n",
       "      <td>66.6</td>\n",
       "    </tr>\n",
       "    <tr>\n",
       "      <th>GSM362970</th>\n",
       "      <td>0</td>\n",
       "      <td>67.3</td>\n",
       "      <td>0</td>\n",
       "      <td>67.3</td>\n",
       "    </tr>\n",
       "    <tr>\n",
       "      <th>GSM363354</th>\n",
       "      <td>1</td>\n",
       "      <td>10.4</td>\n",
       "      <td>1</td>\n",
       "      <td>10.4</td>\n",
       "    </tr>\n",
       "    <tr>\n",
       "      <th>GSM363039</th>\n",
       "      <td>0</td>\n",
       "      <td>52.8</td>\n",
       "      <td>0</td>\n",
       "      <td>52.8</td>\n",
       "    </tr>\n",
       "  </tbody>\n",
       "</table>\n",
       "</div>"
      ],
      "text/plain": [
       "           OS_E    OS  DFS_E   DFS\n",
       "GSM                               \n",
       "GSM363205     0  58.0      0  58.0\n",
       "GSM363115     0  66.6      0  66.6\n",
       "GSM362970     0  67.3      0  67.3\n",
       "GSM363354     1  10.4      1  10.4\n",
       "GSM363039     0  52.8      0  52.8"
      ]
     },
     "execution_count": 3,
     "metadata": {},
     "output_type": "execute_result"
    }
   ],
   "source": [
    "survival = pd.read_csv('GSE14520.Survival.csv',index_col=0)\n",
    "survival.head()"
   ]
  },
  {
   "cell_type": "code",
   "execution_count": 4,
   "metadata": {},
   "outputs": [
    {
     "data": {
      "text/html": [
       "<div>\n",
       "<style scoped>\n",
       "    .dataframe tbody tr th:only-of-type {\n",
       "        vertical-align: middle;\n",
       "    }\n",
       "\n",
       "    .dataframe tbody tr th {\n",
       "        vertical-align: top;\n",
       "    }\n",
       "\n",
       "    .dataframe thead th {\n",
       "        text-align: right;\n",
       "    }\n",
       "</style>\n",
       "<table border=\"1\" class=\"dataframe\">\n",
       "  <thead>\n",
       "    <tr style=\"text-align: right;\">\n",
       "      <th></th>\n",
       "      <th>Hepatocyte</th>\n",
       "      <th>OS_E</th>\n",
       "      <th>OS</th>\n",
       "      <th>DFS_E</th>\n",
       "      <th>DFS</th>\n",
       "    </tr>\n",
       "  </thead>\n",
       "  <tbody>\n",
       "    <tr>\n",
       "      <th>GSM362947</th>\n",
       "      <td>0.052616</td>\n",
       "      <td>1</td>\n",
       "      <td>59.2</td>\n",
       "      <td>1</td>\n",
       "      <td>50.0</td>\n",
       "    </tr>\n",
       "    <tr>\n",
       "      <th>GSM362948</th>\n",
       "      <td>0.054623</td>\n",
       "      <td>0</td>\n",
       "      <td>61.4</td>\n",
       "      <td>1</td>\n",
       "      <td>8.8</td>\n",
       "    </tr>\n",
       "    <tr>\n",
       "      <th>GSM362949</th>\n",
       "      <td>0.062304</td>\n",
       "      <td>1</td>\n",
       "      <td>18.2</td>\n",
       "      <td>1</td>\n",
       "      <td>18.2</td>\n",
       "    </tr>\n",
       "    <tr>\n",
       "      <th>GSM362950</th>\n",
       "      <td>0.051584</td>\n",
       "      <td>0</td>\n",
       "      <td>57.5</td>\n",
       "      <td>1</td>\n",
       "      <td>30.1</td>\n",
       "    </tr>\n",
       "    <tr>\n",
       "      <th>GSM362952</th>\n",
       "      <td>0.083712</td>\n",
       "      <td>0</td>\n",
       "      <td>54.3</td>\n",
       "      <td>0</td>\n",
       "      <td>54.3</td>\n",
       "    </tr>\n",
       "  </tbody>\n",
       "</table>\n",
       "</div>"
      ],
      "text/plain": [
       "           Hepatocyte  OS_E    OS  DFS_E   DFS\n",
       "GSM362947    0.052616     1  59.2      1  50.0\n",
       "GSM362948    0.054623     0  61.4      1   8.8\n",
       "GSM362949    0.062304     1  18.2      1  18.2\n",
       "GSM362950    0.051584     0  57.5      1  30.1\n",
       "GSM362952    0.083712     0  54.3      0  54.3"
      ]
     },
     "execution_count": 4,
     "metadata": {},
     "output_type": "execute_result"
    }
   ],
   "source": [
    "survival_test = cell_estimation.merge(survival,left_index=True,right_index=True,how='inner')\n",
    "survival_test.head()"
   ]
  },
  {
   "cell_type": "code",
   "execution_count": 5,
   "metadata": {},
   "outputs": [],
   "source": [
    "survival_reorder = survival_test.sort_values(interest,axis=0,ascending=False)\n",
    "survival_E = {1:True,0:False}"
   ]
  },
  {
   "cell_type": "code",
   "execution_count": 6,
   "metadata": {},
   "outputs": [],
   "source": [
    "test_type = 'DFS'\n",
    "E = list(survival_reorder['%s_E'%test_type])\n",
    "E = [survival_E[value] for value in E]\n",
    "mid_point = int(len(E)/2)\n",
    "E_high = E[:mid_point]\n",
    "E_low = E[mid_point:]\n",
    "\n",
    "S = list(survival_reorder['%s'%test_type])\n",
    "S_high = S[:mid_point]\n",
    "S_low = S[mid_point:]"
   ]
  },
  {
   "cell_type": "code",
   "execution_count": 7,
   "metadata": {},
   "outputs": [
    {
     "data": {
      "text/plain": [
       "0.0004"
      ]
     },
     "execution_count": 7,
     "metadata": {},
     "output_type": "execute_result"
    }
   ],
   "source": [
    "results = logrank_test(S_high,S_low,E_high,E_low)\n",
    "p = results.p_value\n",
    "p = round(p,4)\n",
    "p"
   ]
  },
  {
   "cell_type": "code",
   "execution_count": 12,
   "metadata": {},
   "outputs": [
    {
     "data": {
      "text/plain": [
       "Text(0.5, 1.0, 'GSE14520 Overall Survival vs. Hepatocyte Density')"
      ]
     },
     "execution_count": 12,
     "metadata": {},
     "output_type": "execute_result"
    },
    {
     "data": {
      "image/png": "[encoded data removed]",
      "text/plain": [
       "<Figure size 720x720 with 1 Axes>"
      ]
     },
     "metadata": {
      "needs_background": "light"
     },
     "output_type": "display_data"
    }
   ],
   "source": [
    "plt.figure(figsize=(10,10))\n",
    "t,s = kmf(E_high, S_high)\n",
    "plt.step(t,s,c='b')\n",
    "t,s = kmf(E_low, S_low)\n",
    "plt.step(t,s,c='k')\n",
    "plt.xticks(np.arange(0,73,24),fontsize=12)\n",
    "plt.yticks(np.arange(0.2,1.1,0.2),fontsize=12)\n",
    "plt.xlabel('Survival Length (Months)', fontsize=20)\n",
    "plt.ylabel('Survival Probability',fontsize=20)\n",
    "high_patch = mpatches.Patch(color='b',label='High Density of %s (n = %s)'%(cell_type,len(E_high)))\n",
    "low_patch = mpatches.Patch(color='k',label='Low Density of %s (n = %s)'%(cell_type,len(E_low)))\n",
    "plt.text(5,0.28, 'Log Rank Test',fontsize=15)\n",
    "plt.text(6,0.25, 'p = %s'%p,fontsize=15)\n",
    "plt.legend(handles=[high_patch,low_patch],fontsize=12)\n",
    "plt.title('GSE14520 Overall Survival vs. %s Density'%cell_type,fontsize=20)\n",
    "#plt.savefig('%s.%s.DFS.pdf'%(study,pdf_file),format='pdf')"
   ]
  },
  {
   "cell_type": "code",
   "execution_count": null,
   "metadata": {},
   "outputs": [],
   "source": []
  },
  {
   "cell_type": "code",
   "execution_count": null,
   "metadata": {},
   "outputs": [],
   "source": []
  },
  {
   "cell_type": "code",
   "execution_count": null,
   "metadata": {},
   "outputs": [],
   "source": []
  }
 ],
 "metadata": {
  "kernelspec": {
   "display_name": "Python 3",
   "language": "python",
   "name": "python3"
  },
  "language_info": {
   "codemirror_mode": {
    "name": "ipython",
    "version": 3
   },
   "file_extension": ".py",
   "mimetype": "text/x-python",
   "name": "python",
   "nbconvert_exporter": "python",
   "pygments_lexer": "ipython3",
   "version": "3.8.3"
  }
 },
 "nbformat": 4,
 "nbformat_minor": 4
}

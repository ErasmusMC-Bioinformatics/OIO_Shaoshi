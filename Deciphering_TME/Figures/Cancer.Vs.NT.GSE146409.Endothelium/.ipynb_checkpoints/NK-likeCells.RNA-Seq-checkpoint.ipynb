{
 "cells": [
  {
   "cell_type": "code",
   "execution_count": 2,
   "metadata": {},
   "outputs": [],
   "source": [
    "import pandas as pd\n",
    "import numpy as np\n",
    "import matplotlib.pyplot as plt\n",
    "import matplotlib.patches as mpatches\n",
    "import os"
   ]
  },
  {
   "cell_type": "code",
   "execution_count": 3,
   "metadata": {},
   "outputs": [],
   "source": [
    "selected_cell = 'NK-like_Cells'"
   ]
  },
  {
   "cell_type": "code",
   "execution_count": 4,
   "metadata": {},
   "outputs": [],
   "source": [
    "box_data = {}\n",
    "position = {}\n",
    "widths = {}\n",
    "box_properties = {}"
   ]
  },
  {
   "cell_type": "code",
   "execution_count": 5,
   "metadata": {},
   "outputs": [],
   "source": [
    "study = 'GSE119336'\n",
    "svr_estimation = pd.read_csv('%s.RNA-Seq/%s.%s.csv'%(selected_cell.replace('_','.'),study,selected_cell),index_col=0)\n",
    "metadata = pd.read_csv('Phenotype/%s.csv'%study)\n",
    "nt = metadata[metadata['Phenotype'] == 'Non-Tumor']\n",
    "nt_list = list(nt['title'])\n",
    "nt = svr_estimation.reindex(nt_list)\n",
    "nt = np.array(nt[selected_cell])\n",
    "cancer = metadata[metadata['Phenotype'] == 'CCA']\n",
    "cancer_list = list(cancer['title'])\n",
    "cancer = svr_estimation.reindex(cancer_list)\n",
    "cancer = np.array(cancer[selected_cell])\n",
    "\n",
    "box_no = 1\n",
    "box_data[box_no] = nt\n",
    "position[box_no] = [8]\n",
    "widths[box_no] = 3\n",
    "box_properties[box_no] = 'nt'\n",
    "\n",
    "box_no = 2\n",
    "box_data[box_no] = cancer\n",
    "position[box_no] = [12]\n",
    "widths[box_no] = 3\n",
    "box_properties[box_no] = 'cca'"
   ]
  },
  {
   "cell_type": "code",
   "execution_count": 6,
   "metadata": {},
   "outputs": [],
   "source": [
    "study = 'GSE124535'\n",
    "svr_estimation = pd.read_csv('%s.RNA-Seq/%s.%s.csv'%(selected_cell.replace('_','.'),study,selected_cell),index_col=0)\n",
    "metadata = pd.read_csv('Phenotype/%s.csv'%study)\n",
    "metadata.index = metadata['geo_accession']\n",
    "nt = metadata[metadata['Phenotype'] == 'Non-Tumor']\n",
    "nt_list = list(nt.index.values)\n",
    "nt = svr_estimation.reindex(nt_list)\n",
    "nt = np.array(nt[selected_cell])\n",
    "cancer = metadata[metadata['Phenotype'] == 'HCC']\n",
    "cancer_list = list(cancer.index.values)\n",
    "cancer = svr_estimation.reindex(cancer_list)\n",
    "cancer = np.array(cancer[selected_cell])\n",
    "\n",
    "box_no = 3\n",
    "box_data[box_no] = nt\n",
    "position[box_no] = [18]\n",
    "widths[box_no] = 3\n",
    "box_properties[box_no] = 'nt'\n",
    "\n",
    "box_no = 4\n",
    "box_data[box_no] = cancer\n",
    "position[box_no] = [22]\n",
    "widths[box_no] = 3\n",
    "box_properties[box_no] = 'hcc'"
   ]
  },
  {
   "cell_type": "code",
   "execution_count": 7,
   "metadata": {},
   "outputs": [],
   "source": [
    "study = 'GSE65485'\n",
    "svr_estimation = pd.read_csv('%s.RNA-Seq/%s.%s.csv'%(selected_cell.replace('_','.'),study,selected_cell),index_col=0)\n",
    "metadata = pd.read_csv('Phenotype/%s.csv'%study)\n",
    "metadata.index = metadata['sample_id']\n",
    "nt = metadata[metadata['Phenotype'] == 'Non-Tumor']\n",
    "nt_list = list(nt.index.values)\n",
    "nt = svr_estimation.reindex(nt_list)\n",
    "nt = np.array(nt[selected_cell])\n",
    "cancer = metadata[metadata['Phenotype'] == 'HCC']\n",
    "cancer_list = list(cancer.index.values)\n",
    "cancer = svr_estimation.reindex(cancer_list)\n",
    "cancer = np.array(cancer[selected_cell])\n",
    "\n",
    "box_no = 5\n",
    "box_data[box_no] = nt\n",
    "position[box_no] = [28]\n",
    "widths[box_no] = 3\n",
    "box_properties[box_no] = 'nt'\n",
    "\n",
    "box_no = 6\n",
    "box_data[box_no] = cancer\n",
    "position[box_no] = [32]\n",
    "widths[box_no] = 3\n",
    "box_properties[box_no] = 'hcc'"
   ]
  },
  {
   "cell_type": "code",
   "execution_count": 8,
   "metadata": {},
   "outputs": [],
   "source": [
    "study = 'GSE77314'\n",
    "svr_estimation = pd.read_csv('%s.RNA-Seq/%s.%s.csv'%(selected_cell.replace('_','.'),study,selected_cell),index_col=0)\n",
    "metadata = pd.read_csv('Phenotype/%s.csv'%study)\n",
    "metadata.index = metadata['sample_id']\n",
    "nt = metadata[metadata['Phenotype'] == 'Non-Tumor']\n",
    "nt_list = list(nt.index.values)\n",
    "nt = svr_estimation.reindex(nt_list)\n",
    "nt = np.array(nt[selected_cell])\n",
    "cancer = metadata[metadata['Phenotype'] == 'HCC']\n",
    "cancer_list = list(cancer.index.values)\n",
    "cancer = svr_estimation.reindex(cancer_list)\n",
    "cancer = np.array(cancer[selected_cell])\n",
    "\n",
    "box_no = 7\n",
    "box_data[box_no] = nt\n",
    "position[box_no] = [38]\n",
    "widths[box_no] = 3\n",
    "box_properties[box_no] = 'nt'\n",
    "\n",
    "box_no = 8\n",
    "box_data[box_no] = cancer\n",
    "position[box_no] = [42]\n",
    "widths[box_no] = 3\n",
    "box_properties[box_no] = 'hcc'"
   ]
  },
  {
   "cell_type": "code",
   "execution_count": 9,
   "metadata": {},
   "outputs": [],
   "source": [
    "study = 'GSE77509'\n",
    "svr_estimation = pd.read_csv('%s.RNA-Seq/%s.%s.csv'%(selected_cell.replace('_','.'),study,selected_cell),index_col=0)\n",
    "metadata = pd.read_csv('Phenotype/%s.csv'%study)\n",
    "metadata.index = metadata['geo_accession']\n",
    "nt = metadata[metadata['Phenotype'] == 'Non-Tumor']\n",
    "nt_list = list(nt.index.values)\n",
    "nt = svr_estimation.reindex(nt_list)\n",
    "nt = np.array(nt[selected_cell])\n",
    "cancer = metadata[metadata['Phenotype'] == 'HCC']\n",
    "cancer_list = list(cancer.index.values)\n",
    "cancer = svr_estimation.reindex(cancer_list)\n",
    "cancer = np.array(cancer[selected_cell])\n",
    "pvtt = metadata[metadata['Phenotype'] == 'HCC-PVTT']\n",
    "pvtt_list = list(pvtt.index.values)\n",
    "pvtt = svr_estimation.reindex(pvtt_list)\n",
    "pvtt = np.array(pvtt[selected_cell])\n",
    "\n",
    "box_no = 9\n",
    "box_data[box_no] = nt\n",
    "position[box_no] = [47]\n",
    "widths[box_no] = 2.5\n",
    "box_properties[box_no] = 'nt'\n",
    "\n",
    "\n",
    "box_no = 10\n",
    "box_data[box_no] = cancer\n",
    "position[box_no] = [50]\n",
    "widths[box_no] = 2.5\n",
    "box_properties[box_no] = 'hcc'\n",
    "\n",
    "box_no = 11\n",
    "box_data[box_no] = cancer\n",
    "position[box_no] = [53]\n",
    "widths[box_no] = 2.5\n",
    "box_properties[box_no] = 'pvtt'"
   ]
  },
  {
   "cell_type": "code",
   "execution_count": 10,
   "metadata": {},
   "outputs": [],
   "source": [
    "study = 'GSE94660'\n",
    "svr_estimation = pd.read_csv('%s.RNA-Seq/%s.%s.csv'%(selected_cell.replace('_','.'),study,selected_cell),index_col=0)\n",
    "metadata = pd.read_csv('Phenotype/%s.csv'%study)\n",
    "metadata.index = metadata['geo_accession']\n",
    "nt = metadata[metadata['Phenotype'] == 'Non-Tumor']\n",
    "nt_list = list(nt.index.values)\n",
    "nt = svr_estimation.reindex(nt_list)\n",
    "nt = np.array(nt[selected_cell])\n",
    "cancer = metadata[metadata['Phenotype'] == 'HCC']\n",
    "cancer_list = list(cancer.index.values)\n",
    "cancer = svr_estimation.reindex(cancer_list)\n",
    "cancer = np.array(cancer[selected_cell])\n",
    "\n",
    "box_no = 12\n",
    "box_data[box_no] = nt\n",
    "position[box_no] = [58]\n",
    "widths[box_no] = 3\n",
    "box_properties[box_no] = 'nt'\n",
    "\n",
    "box_no = 13\n",
    "box_data[box_no] = cancer\n",
    "position[box_no] = [62]\n",
    "widths[box_no] = 3\n",
    "box_properties[box_no] = 'hcc'"
   ]
  },
  {
   "cell_type": "code",
   "execution_count": null,
   "metadata": {},
   "outputs": [],
   "source": []
  },
  {
   "cell_type": "code",
   "execution_count": 11,
   "metadata": {},
   "outputs": [],
   "source": [
    "box_property = {}\n",
    "nt_color = '#00ffbf'\n",
    "cca_color = '#e600e6'\n",
    "hcc_color = '#ff0066'\n",
    "pvtt_color = '#0000e6'\n",
    "box_property['nt'] = dict(linestyle = '-', linewidth = 1, facecolor = nt_color)\n",
    "box_property['cca'] = dict(linestyle = '-', linewidth = 1, facecolor = cca_color)\n",
    "box_property['hcc'] = dict(linestyle = '-', linewidth = 1, facecolor = hcc_color)\n",
    "box_property['pvtt'] = dict(linestyle = '-', linewidth = 1, facecolor = pvtt_color)"
   ]
  },
  {
   "cell_type": "code",
   "execution_count": 12,
   "metadata": {},
   "outputs": [
    {
     "data": {
      "image/png": "[encoded data removed]",
      "text/plain": [
       "<Figure size 720x720 with 1 Axes>"
      ]
     },
     "metadata": {
      "needs_background": "light"
     },
     "output_type": "display_data"
    }
   ],
   "source": [
    "plt.figure(figsize=(10,10))\n",
    "\n",
    "plt.xlim(4,66)\n",
    "meanlineprops = dict(linestyle='-', linewidth = 1, color = 'blue')\n",
    "\n",
    "for i in range(13):\n",
    "    group = i+1\n",
    "    bp = plt.boxplot(box_data[group], positions=position[group], widths = widths[group], whis=[0,100],\n",
    "                boxprops = box_property[box_properties[group]],medianprops = meanlineprops, meanline = False, patch_artist=True)\n",
    "\n",
    "\n",
    "for i in range(13):\n",
    "    group = i+1\n",
    "    plt.text(position[group][0]-1.5,max(box_data[group])+0.0005,'n=%s'%(len(box_data[group])),rotation=40)\n",
    "\n",
    "nt_patch = mpatches.Patch(color=nt_color,label='Non-Tumor Liver')\n",
    "hcc_patch = mpatches.Patch(color=hcc_color,label='Heptocellular Carcinoma (HCC)')\n",
    "cca_patch = mpatches.Patch(color=cca_color,label='Cholagiocarcinoma (CCA)')\n",
    "pvtt_patch = mpatches.Patch(color=pvtt_color,label='Portal Vein Tumor Thrombosis (HCC-PVTT)')\n",
    "\n",
    "plt.legend(handles=[nt_patch,hcc_patch,pvtt_patch,cca_patch],fontsize=10,loc='upper right')\n",
    "plt.ylabel('Predicted Proportion',fontsize=15)\n",
    "\n",
    "plt.title('SVR Estimation of %s(RNA-Seq)'%selected_cell.replace('_',' '), fontsize=20)\n",
    "plt.yticks([0.373,0.406])\n",
    "plt.xticks([10,20,30,40,50,60],\n",
    "           ['GSE119336','GSE124535','GSE65485','GSE77314','GSE77509','GSE94660'],\n",
    "          fontsize=12,rotation=30)\n",
    "plt.tight_layout()\n",
    "plt.savefig('RNA-Seq.%s.pdf'%selected_cell,format='pdf')"
   ]
  },
  {
   "cell_type": "code",
   "execution_count": null,
   "metadata": {},
   "outputs": [],
   "source": []
  },
  {
   "cell_type": "code",
   "execution_count": null,
   "metadata": {},
   "outputs": [],
   "source": []
  },
  {
   "cell_type": "code",
   "execution_count": null,
   "metadata": {},
   "outputs": [],
   "source": []
  }
 ],
 "metadata": {
  "kernelspec": {
   "display_name": "Python 3",
   "language": "python",
   "name": "python3"
  },
  "language_info": {
   "codemirror_mode": {
    "name": "ipython",
    "version": 3
   },
   "file_extension": ".py",
   "mimetype": "text/x-python",
   "name": "python",
   "nbconvert_exporter": "python",
   "pygments_lexer": "ipython3",
   "version": "3.8.5"
  }
 },
 "nbformat": 4,
 "nbformat_minor": 4
}

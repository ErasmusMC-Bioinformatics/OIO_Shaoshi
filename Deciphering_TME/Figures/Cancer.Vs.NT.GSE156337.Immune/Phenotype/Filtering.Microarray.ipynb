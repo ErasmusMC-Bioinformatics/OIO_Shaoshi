{
 "cells": [
  {
   "cell_type": "code",
   "execution_count": 6,
   "metadata": {},
   "outputs": [],
   "source": [
    "import shutil"
   ]
  },
  {
   "cell_type": "code",
   "execution_count": 9,
   "metadata": {},
   "outputs": [],
   "source": [
    "cancer_geo_list = ['GSE102079', 'GSE121248', 'GSE14323', 'GSE14520', 'GSE17967', 'GSE45436',\n",
    "                   'GSE60502', 'GSE62232', 'GSE63898', 'GSE64041', 'GSE84005']"
   ]
  },
  {
   "cell_type": "code",
   "execution_count": 10,
   "metadata": {},
   "outputs": [],
   "source": [
    "for file in cancer_geo_list:\n",
    "    source = 'GEO.Phenotype/%s.Pheno.csv'%file\n",
    "    destination = '%s.csv'%file\n",
    "    shutil.copy(source,destination)"
   ]
  },
  {
   "cell_type": "code",
   "execution_count": null,
   "metadata": {},
   "outputs": [],
   "source": []
  }
 ],
 "metadata": {
  "kernelspec": {
   "display_name": "Python 3",
   "language": "python",
   "name": "python3"
  },
  "language_info": {
   "codemirror_mode": {
    "name": "ipython",
    "version": 3
   },
   "file_extension": ".py",
   "mimetype": "text/x-python",
   "name": "python",
   "nbconvert_exporter": "python",
   "pygments_lexer": "ipython3",
   "version": "3.8.5"
  }
 },
 "nbformat": 4,
 "nbformat_minor": 4
}

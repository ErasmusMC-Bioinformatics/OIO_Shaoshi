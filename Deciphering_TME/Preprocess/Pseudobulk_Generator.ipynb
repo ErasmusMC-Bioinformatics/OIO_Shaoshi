{
 "cells": [
  {
   "cell_type": "markdown",
   "metadata": {},
   "source": [
    "# Transformation of Atlas\n",
    "\n",
    "This notebook shows how to generate pseudobulk datasets.\n",
    "\n",
    "Download the expression of the Normal Liver scRNA-seq atlas:\n",
    "https://ftp.ncbi.nlm.nih.gov/geo/series/GSE115nnn/GSE115469/suppl/GSE115469_Data.csv.gz"
   ]
  },
  {
   "cell_type": "code",
   "execution_count": 3,
   "metadata": {},
   "outputs": [],
   "source": [
    "import pandas as pd\n",
    "import numpy as np\n",
    "from numpy.random import uniform\n",
    "from TMM import *\n",
    "import scanpy as sc\n",
    "import os"
   ]
  },
  {
   "cell_type": "code",
   "execution_count": 4,
   "metadata": {},
   "outputs": [],
   "source": [
    "# proportion of randomly selection from atlas\n",
    "random_selection_proportion = 0.1"
   ]
  },
  {
   "cell_type": "code",
   "execution_count": 7,
   "metadata": {},
   "outputs": [],
   "source": [
    "expression_matrix = pd.read_csv('GSE115469_Data.csv.gz',index_col=0)\n",
    "annotation = pd.read_csv('GSE115469_Annoation.csv',index_col=0)"
   ]
  },
  {
   "cell_type": "code",
   "execution_count": 11,
   "metadata": {},
   "outputs": [],
   "source": [
    "liver_cell_atlas = expression_matrix\n",
    "\n",
    "metadata = annotation\n",
    "metadata = metadata.filter(['CellType_sub'])\n",
    "metadata.columns = ['CellType']"
   ]
  },
  {
   "cell_type": "code",
   "execution_count": 12,
   "metadata": {},
   "outputs": [],
   "source": [
    "# define the generator functions\n",
    "def cell_expr_generator(selected_cell,cell_atlas_matrix,cell_type_annotation):    \n",
    "    selected_cell = selected_cell\n",
    "    cell_atlas_matrix = cell_atlas_matrix\n",
    "    cell_type_annotation = cell_type_annotation\n",
    "    cell_id_list = list(cell_type_annotation[cell_type_annotation['CellType'] == selected_cell].index.values)\n",
    "    other_id_list = list(cell_type_annotation[cell_type_annotation['CellType'] != selected_cell].index.values)\n",
    "    random_selection_number = int(len(cell_id_list) * random_selection_proportion)\n",
    "    if random_selection_number < 50:\n",
    "        random_selection_number = 50\n",
    "    else:\n",
    "        pass\n",
    "    random_selection = np.random.choice(cell_id_list,random_selection_number)\n",
    "    selected_cell_reference = cell_atlas_matrix.filter(random_selection).mean(axis=1)\n",
    "    other_selection = np.random.choice(other_id_list,1000)\n",
    "    other_cell_reference = cell_atlas_matrix.filter(other_selection).mean(axis=1)\n",
    "    scaling = np.random.uniform(0,1)\n",
    "    proportion = [scaling,1-scaling]\n",
    "    sim_expr = selected_cell_reference * proportion[0] * 100 + other_cell_reference * proportion[1] * 100\n",
    "    return sim_expr, proportion\n",
    "\n",
    "def train_simulation(selected_cell,cell_atlas_matrix,cell_type_annotation,simulation_number):\n",
    "    selected_cell = selected_cell\n",
    "    cell_atlas_matrix = cell_atlas_matrix\n",
    "    cell_type_annotation = cell_type_annotation\n",
    "    simulation_number = simulation_number\n",
    "    sim_expr = {}\n",
    "    proportion = []\n",
    "    sim_list = []\n",
    "    for i in range(simulation_number):\n",
    "        sim_id = 'Train-%s'%(i + 1)\n",
    "        sim_list.append(sim_id)\n",
    "        pseudo_bulk = cell_expr_generator(selected_cell,cell_atlas_matrix,cell_type_annotation)\n",
    "        sim_expr[sim_id] = pseudo_bulk[0]\n",
    "        proportion.append(pseudo_bulk[1])\n",
    "    sim_expr = pd.DataFrame.from_dict(data = sim_expr)\n",
    "    sim_expr = cpm(sim_expr)\n",
    "    proportion = np.array(proportion)\n",
    "    proportion = pd.DataFrame(data = proportion, columns = [selected_cell,'Other'])\n",
    "    proportion.index = sim_list\n",
    "    return sim_expr,proportion\n",
    "\n",
    "def test_simulation(selected_cell,cell_atlas_matrix,cell_type_annotation,simulation_number):\n",
    "    selected_cell = selected_cell\n",
    "    cell_atlas_matrix = cell_atlas_matrix\n",
    "    cell_type_annotation = cell_type_annotation\n",
    "    simulation_number = simulation_number\n",
    "    sim_expr = {}\n",
    "    proportion = []\n",
    "    sim_list = []\n",
    "    for i in range(simulation_number):\n",
    "        sim_id = 'Test-%s'%(i + 1)\n",
    "        sim_list.append(sim_id)\n",
    "        pseudo_bulk = cell_expr_generator(selected_cell,cell_atlas_matrix,cell_type_annotation)\n",
    "        sim_expr[sim_id] = pseudo_bulk[0]\n",
    "        proportion.append(pseudo_bulk[1])\n",
    "    sim_expr = pd.DataFrame.from_dict(data = sim_expr)\n",
    "    sim_expr = cpm(sim_expr)\n",
    "    proportion = np.array(proportion)\n",
    "    proportion = pd.DataFrame(data = proportion, columns = [selected_cell,'Other'])\n",
    "    proportion.index = sim_list\n",
    "    return sim_expr,proportion"
   ]
  },
  {
   "cell_type": "code",
   "execution_count": 13,
   "metadata": {},
   "outputs": [],
   "source": [
    "# generate one pseudobulk matrix for each cell type\n",
    "all_cell_types = list(set(metadata['CellType']))"
   ]
  },
  {
   "cell_type": "code",
   "execution_count": 14,
   "metadata": {},
   "outputs": [],
   "source": [
    "try:\n",
    "    os.mkdir('Pseudobulk')\n",
    "except:\n",
    "    pass\n",
    "    \n",
    "for selected_cell in all_cell_types:\n",
    "    test = test_simulation(selected_cell,liver_cell_atlas,metadata,500)\n",
    "    test_expr = test[0]\n",
    "    test_proportion = test[1]\n",
    "    test_expr.to_csv('Pseudobulk/%s.TestExpression.txt'%selected_cell,sep='\\t')\n",
    "    test_proportion.to_csv('Pseudobulk/%s.TestTarget.txt'%selected_cell,sep='\\t')"
   ]
  },
  {
   "cell_type": "code",
   "execution_count": null,
   "metadata": {},
   "outputs": [],
   "source": []
  }
 ],
 "metadata": {
  "kernelspec": {
   "display_name": "Python 3",
   "language": "python",
   "name": "python3"
  },
  "language_info": {
   "codemirror_mode": {
    "name": "ipython",
    "version": 3
   },
   "file_extension": ".py",
   "mimetype": "text/x-python",
   "name": "python",
   "nbconvert_exporter": "python",
   "pygments_lexer": "ipython3",
   "version": "3.8.5"
  }
 },
 "nbformat": 4,
 "nbformat_minor": 4
}
